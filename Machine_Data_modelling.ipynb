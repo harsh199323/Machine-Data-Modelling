{
  "nbformat": 4,
  "nbformat_minor": 0,
  "metadata": {
    "colab": {
      "name": "20220118_DSIA_10_Modelling.ipynb",
      "provenance": [],
      "collapsed_sections": []
    },
    "kernelspec": {
      "name": "python3",
      "display_name": "Python 3"
    },
    "language_info": {
      "name": "python"
    }
  },
  "cells": [
    {
      "cell_type": "markdown",
      "source": [
        "# Modelling"
      ],
      "metadata": {
        "id": "4Mz9YRnxHsoj"
      }
    },
    {
      "cell_type": "markdown",
      "source": [
        "## Classification"
      ],
      "metadata": {
        "id": "usIXS-JYIDY5"
      }
    },
    {
      "cell_type": "markdown",
      "source": [
        "### Load Data Set as Pandas"
      ],
      "metadata": {
        "id": "9KgYFTjRJT9E"
      }
    },
    {
      "cell_type": "code",
      "execution_count": null,
      "metadata": {
        "id": "_D546hRTHJhG"
      },
      "outputs": [],
      "source": [
        "import pandas as pd\n",
        "import numpy as np\n",
        "from sklearn.datasets import load_iris\n",
        "\n",
        "irisdata = load_iris()\n",
        "# print description of the dataset\n",
        "print(irisdata.DESCR)"
      ]
    },
    {
      "cell_type": "code",
      "source": [
        "# build Pandas dataframe\n",
        "# for quick summary of data wrangling with pandas, see https://pandas.pydata.org/Pandas_Cheat_Sheet.pdf\n",
        "df = pd.DataFrame(data = irisdata.data, columns = irisdata.feature_names )\n",
        "df['target'] = irisdata.target\n",
        "df['targetnames'] = pd.Categorical.from_codes(df[\"target\"], irisdata.target_names)\n",
        "df\n"
      ],
      "metadata": {
        "id": "Grfz3iQ2qd20"
      },
      "execution_count": null,
      "outputs": []
    },
    {
      "cell_type": "markdown",
      "source": [
        "### k-Nearest Neighbour Training & Testing"
      ],
      "metadata": {
        "id": "Nt_eu3FCLLSv"
      }
    },
    {
      "cell_type": "code",
      "source": [
        "from sklearn.model_selection import train_test_split\n",
        "from sklearn.neighbors import KNeighborsClassifier\n",
        "\n",
        "# Split training / test set one (typically you would prefer multiple splitting / cross volidation)\n",
        "X_train, X_test, y_train, y_test = train_test_split(df[irisdata.feature_names], df[\"target\"], test_size=0.33)\n",
        "print(\"No. of Training samples: {}\\nNo. of Test samples: {}\".format(len(X_train), len(X_test)))\n",
        "\n",
        "# Training of the KNN Classifier\n",
        "knn_classifier = KNeighborsClassifier(n_neighbors = 3)\n",
        "knn_classifier.fit(X_train, y_train)\n"
      ],
      "metadata": {
        "id": "rR9DQEBZI6PP",
        "colab": {
          "base_uri": "https://localhost:8080/"
        },
        "outputId": "64e02c46-d493-4fff-a26f-b11aefed149d"
      },
      "execution_count": null,
      "outputs": [
        {
          "output_type": "stream",
          "name": "stdout",
          "text": [
            "No. of Training samples: 100\n",
            "No. of Test samples: 50\n"
          ]
        },
        {
          "output_type": "execute_result",
          "data": {
            "text/plain": [
              "KNeighborsClassifier(n_neighbors=3)"
            ]
          },
          "metadata": {},
          "execution_count": 102
        }
      ]
    },
    {
      "cell_type": "code",
      "source": [
        "from sklearn.metrics import classification_report\n",
        "from sklearn.metrics import confusion_matrix, ConfusionMatrixDisplay\n",
        "import matplotlib.pyplot as plt\n",
        "\n",
        "# Testing of the KNN Classifier\n",
        "y_test_pred = knn_classifier.predict(X_test)\n",
        "\n",
        "cm = confusion_matrix(y_test, y_test_pred)\n",
        "ConfusionMatrixDisplay(cm, display_labels=irisdata.target_names).plot()"
      ],
      "metadata": {
        "colab": {
          "base_uri": "https://localhost:8080/",
          "height": 296
        },
        "id": "u5LMe2Eztqjy",
        "outputId": "7065fff3-c750-4e3c-9f99-be0402bba707"
      },
      "execution_count": null,
      "outputs": [
        {
          "output_type": "execute_result",
          "data": {
            "text/plain": [
              "<sklearn.metrics._plot.confusion_matrix.ConfusionMatrixDisplay at 0x7fb25d91b310>"
            ]
          },
          "metadata": {},
          "execution_count": 103
        },
        {
          "output_type": "display_data",
          "data": {
            "image/png": "[encoded data removed]",
            "text/plain": [
              "<Figure size 432x288 with 2 Axes>"
            ]
          },
          "metadata": {
            "needs_background": "light"
          }
        }
      ]
    },
    {
      "cell_type": "code",
      "source": [
        "print(classification_report(y_test, y_test_pred, target_names=irisdata.target_names))"
      ],
      "metadata": {
        "colab": {
          "base_uri": "https://localhost:8080/"
        },
        "id": "Y63_BmvQ79zR",
        "outputId": "40c1eb9d-998c-43da-deba-5fa5e449d470"
      },
      "execution_count": null,
      "outputs": [
        {
          "output_type": "stream",
          "name": "stdout",
          "text": [
            "              precision    recall  f1-score   support\n",
            "\n",
            "      setosa       1.00      1.00      1.00        19\n",
            "  versicolor       0.95      1.00      0.97        19\n",
            "   virginica       1.00      0.92      0.96        12\n",
            "\n",
            "    accuracy                           0.98        50\n",
            "   macro avg       0.98      0.97      0.98        50\n",
            "weighted avg       0.98      0.98      0.98        50\n",
            "\n"
          ]
        }
      ]
    },
    {
      "cell_type": "markdown",
      "source": [
        "### SVM Training & Testing with Cross-Validation"
      ],
      "metadata": {
        "id": "-WPqzXmtHr4v"
      }
    },
    {
      "cell_type": "code",
      "source": [
        "from sklearn.model_selection import cross_val_score\n",
        "from sklearn.svm import SVC\n",
        "from sklearn import metrics\n",
        "\n",
        "# Training and Cross Validation\n",
        "svm_classifier = SVC(kernel='rbf', C=1, gamma=0.5)\n",
        "scores = cross_val_score(svm_classifier, df[irisdata.feature_names], df[\"target\"], cv=10, scoring='accuracy')\n",
        "# for possible metrics, see https://scikit-learn.org/stable/modules/model_evaluation.html#common-cases-predefined-values\n",
        "\n",
        "print(scores)\n",
        "print(\"Average Score: {}\".format(np.mean(scores)))\n"
      ],
      "metadata": {
        "colab": {
          "base_uri": "https://localhost:8080/"
        },
        "id": "NCksC9EivjHt",
        "outputId": "6f23da7d-f561-444c-c259-b720540d8fee"
      },
      "execution_count": null,
      "outputs": [
        {
          "output_type": "stream",
          "name": "stdout",
          "text": [
            "[1.         0.93333333 1.         1.         0.93333333 1.\n",
            " 0.93333333 1.         1.         1.        ]\n",
            "Average Score: 0.9800000000000001\n"
          ]
        }
      ]
    },
    {
      "cell_type": "markdown",
      "source": [
        "### Random Forest Training & Testing with Cross-Validation"
      ],
      "metadata": {
        "id": "YN-b9nkMyV1f"
      }
    },
    {
      "cell_type": "code",
      "source": [
        "from sklearn.ensemble import RandomForestClassifier\n",
        "\n",
        "randforest_classifier = RandomForestClassifier(n_estimators=50, max_depth=3)\n",
        "scores = cross_val_score(randforest_classifier, df[irisdata.feature_names], df[\"target\"], cv=10, scoring='accuracy')\n",
        "\n",
        "print(scores)\n",
        "print(\"Average Score: {}\".format(np.mean(scores)))"
      ],
      "metadata": {
        "colab": {
          "base_uri": "https://localhost:8080/"
        },
        "id": "SMnLQR2cwvi_",
        "outputId": "57efa033-2ff6-445b-d11d-83f4322fa054"
      },
      "execution_count": null,
      "outputs": [
        {
          "output_type": "stream",
          "name": "stdout",
          "text": [
            "[1.         0.93333333 1.         0.93333333 0.93333333 0.93333333\n",
            " 0.86666667 1.         1.         1.        ]\n",
            "Average Score: 0.96\n"
          ]
        }
      ]
    }
  ]
}